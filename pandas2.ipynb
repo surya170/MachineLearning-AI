{
 "cells": [
  {
   "cell_type": "markdown",
   "metadata": {},
   "source": [
    "# Pandas for Freelancing: A Comprehensive Guide\n",
    "## Table of Contents\n",
    "## 1.Introduction to Pandas\n",
    "## 2.Setting Up Your Environment\n",
    "## 3.Basic Data Structures\n",
    "## 4.DataFrame Operations\n",
    "## 5.Data Cleaning\n",
    "## 6.Data Transformation\n",
    "## 7.Data Analysis\n",
    "## 8.Working with Dates and Times\n",
    "## 9.Merging and Joining DataFrames\n",
    "## 10.Input and Output Operations\n",
    "## 11.Plotting and Visualization\n",
    "##  12.Real-world Examples\n"
   ]
  },
  {
   "cell_type": "markdown",
   "metadata": {},
   "source": [
    "## 1. Introduction to Pandas\n",
    "Pandas is a powerful and flexible open-source data analysis and manipulation library for Python. It provides data structures like Series and DataFrame to efficiently handle structured data."
   ]
  },
  {
   "cell_type": "code",
   "execution_count": 2,
   "metadata": {},
   "outputs": [
    {
     "name": "stdout",
     "output_type": "stream",
     "text": [
      "Requirement already satisfied: pandas in c:\\users\\surya\\appdata\\local\\packages\\pythonsoftwarefoundation.python.3.11_qbz5n2kfra8p0\\localcache\\local-packages\\python311\\site-packages (2.2.2)\n",
      "Requirement already satisfied: numpy>=1.23.2 in c:\\users\\surya\\appdata\\local\\packages\\pythonsoftwarefoundation.python.3.11_qbz5n2kfra8p0\\localcache\\local-packages\\python311\\site-packages (from pandas) (2.0.1)\n",
      "Requirement already satisfied: python-dateutil>=2.8.2 in c:\\users\\surya\\appdata\\local\\packages\\pythonsoftwarefoundation.python.3.11_qbz5n2kfra8p0\\localcache\\local-packages\\python311\\site-packages (from pandas) (2.9.0.post0)\n",
      "Requirement already satisfied: pytz>=2020.1 in c:\\users\\surya\\appdata\\local\\packages\\pythonsoftwarefoundation.python.3.11_qbz5n2kfra8p0\\localcache\\local-packages\\python311\\site-packages (from pandas) (2024.1)\n",
      "Requirement already satisfied: tzdata>=2022.7 in c:\\users\\surya\\appdata\\local\\packages\\pythonsoftwarefoundation.python.3.11_qbz5n2kfra8p0\\localcache\\local-packages\\python311\\site-packages (from pandas) (2024.1)\n",
      "Requirement already satisfied: six>=1.5 in c:\\users\\surya\\appdata\\local\\packages\\pythonsoftwarefoundation.python.3.11_qbz5n2kfra8p0\\localcache\\local-packages\\python311\\site-packages (from python-dateutil>=2.8.2->pandas) (1.16.0)\n",
      "Note: you may need to restart the kernel to use updated packages.\n"
     ]
    },
    {
     "name": "stderr",
     "output_type": "stream",
     "text": [
      "\n",
      "[notice] A new release of pip is available: 24.0 -> 24.1.2\n",
      "[notice] To update, run: C:\\Users\\surya\\AppData\\Local\\Microsoft\\WindowsApps\\PythonSoftwareFoundation.Python.3.11_qbz5n2kfra8p0\\python.exe -m pip install --upgrade pip\n"
     ]
    }
   ],
   "source": [
    "# Setting Up your Environment \n",
    "## First install pandas using pip\n",
    "pip install pandas\n"
   ]
  },
  {
   "cell_type": "markdown",
   "metadata": {},
   "source": [
    "# 3. Basic Data Structures\n",
    "## Pandas mainly uses two data structures:\n",
    "\n",
    "## Series: A one-dimensional labeled array.\n",
    "## DataFrame: A two-dimensional labeled data structure with columns of potentially different types.\n",
    "# Series Example"
   ]
  },
  {
   "cell_type": "code",
   "execution_count": 3,
   "metadata": {},
   "outputs": [
    {
     "name": "stdout",
     "output_type": "stream",
     "text": [
      "0    1\n",
      "1    2\n",
      "2    3\n",
      "3    4\n",
      "4    5\n",
      "dtype: int64\n"
     ]
    }
   ],
   "source": [
    "import pandas as pd \n",
    "\n",
    "# creating a series \n",
    "\n",
    "data = [1,2,3,4,5]\n",
    "series = pd.Series(data)\n",
    "print(series)"
   ]
  },
  {
   "cell_type": "markdown",
   "metadata": {},
   "source": [
    "## DataFrame Example\n"
   ]
  },
  {
   "cell_type": "code",
   "execution_count": 33,
   "metadata": {},
   "outputs": [
    {
     "name": "stdout",
     "output_type": "stream",
     "text": [
      "      Name  Age         City\n",
      "0    Alice   25     New York\n",
      "1      Bob   30  Los Angeles\n",
      "2  Charlie   35     Chcicago\n"
     ]
    }
   ],
   "source": [
    "data = {\n",
    "    'Name' : ['Alice','Bob','Charlie'],\n",
    "    'Age' : [25,30,35],\n",
    "    'City' : ['New York','Los Angeles' , 'Chcicago']\n",
    "}\n",
    "df = pd.DataFrame(data)\n",
    "print(df)"
   ]
  },
  {
   "cell_type": "markdown",
   "metadata": {},
   "source": [
    "## 4. DataFrame Operations\n",
    "# Selecting Data"
   ]
  },
  {
   "cell_type": "code",
   "execution_count": 7,
   "metadata": {},
   "outputs": [
    {
     "name": "stdout",
     "output_type": "stream",
     "text": [
      "0      Alice\n",
      "1        Bob\n",
      "2    Charlie\n",
      "Name: Name, dtype: object\n",
      "      Name  Age\n",
      "0    Alice   25\n",
      "1      Bob   30\n",
      "2  Charlie   35\n",
      "Name       Alice\n",
      "Age           25\n",
      "City    New York\n",
      "Name: 0, dtype: object\n",
      "Name       Alice\n",
      "Age           25\n",
      "City    New York\n",
      "Name: 0, dtype: object\n",
      "    Name  Age\n",
      "0  Alice   25\n",
      "1    Bob   30\n"
     ]
    }
   ],
   "source": [
    "#selecting a column\n",
    "print(df['Name'])\n",
    "\n",
    "# Selecting multiple columns\n",
    "print(df[['Name','Age']])\n",
    "\n",
    "# Selecting rows\n",
    "print(df.loc[0])  # by label\n",
    "print(df.iloc[0]) # by position\n",
    "\n",
    "# selecting a subset of rows and columns \n",
    "print(df.loc[0:1,['Name','Age']])\n"
   ]
  },
  {
   "cell_type": "markdown",
   "metadata": {},
   "source": [
    "# Filtering Data\n"
   ]
  },
  {
   "cell_type": "code",
   "execution_count": 8,
   "metadata": {},
   "outputs": [
    {
     "name": "stdout",
     "output_type": "stream",
     "text": [
      "      Name  Age         City\n",
      "1      Bob   30  Los Angeles\n",
      "2  Charlie   35     Chcicago\n"
     ]
    }
   ],
   "source": [
    "filtered_df =  df[df['Age'] > 25]\n",
    "print(filtered_df)"
   ]
  },
  {
   "cell_type": "markdown",
   "metadata": {},
   "source": [
    "## Adding and Modifying Columns\n"
   ]
  },
  {
   "cell_type": "code",
   "execution_count": 10,
   "metadata": {},
   "outputs": [
    {
     "name": "stdout",
     "output_type": "stream",
     "text": [
      "      Name  Age         City Country\n",
      "0    Alice   25     New York     USA\n",
      "1      Bob   30  Los Angeles     USA\n",
      "2  Charlie   35     Chcicago     USA\n",
      "      Name  Age         City Country\n",
      "0    Alice   26     New York     USA\n",
      "1      Bob   31  Los Angeles     USA\n",
      "2  Charlie   36     Chcicago     USA\n"
     ]
    }
   ],
   "source": [
    "# Adding a new column\n",
    "\n",
    "df['Country'] = 'USA'\n",
    "print(df)\n",
    "\n",
    "# Modifying an existing column\n",
    "df['Age'] = df['Age'] + 1\n",
    "print(df)"
   ]
  },
  {
   "cell_type": "markdown",
   "metadata": {},
   "source": [
    "##  5. Data Cleaning\n",
    "## Handling Missing Data"
   ]
  },
  {
   "cell_type": "code",
   "execution_count": 13,
   "metadata": {},
   "outputs": [
    {
     "name": "stdout",
     "output_type": "stream",
     "text": [
      "    Name   Age\n",
      "0  Alice  25.0\n",
      "1    Bob   NaN\n",
      "2   None  35.0\n",
      "    Name   Age\n",
      "0  Alice  25.0\n",
      "    Name   Age\n",
      "0  Alice  25.0\n"
     ]
    }
   ],
   "source": [
    "# Creating a DataFrame with missing values\n",
    "data = {'Name': ['Alice', 'Bob', None], 'Age': [25, None, 35]}\n",
    "df = pd.DataFrame(data)\n",
    "\n",
    "print(df)\n",
    "\n",
    "\n",
    "# Dropping rows with missing values\n",
    "df = df.dropna()\n",
    "print(df)\n",
    "\n",
    "# Filling missing values\n",
    "# Missing values are  unknown\n",
    "df = df.fillna({'Name': 'Unknown', 'Age': 0})\n",
    "print(df)"
   ]
  },
  {
   "cell_type": "markdown",
   "metadata": {},
   "source": [
    "## Removing Duplicates\n"
   ]
  },
  {
   "cell_type": "code",
   "execution_count": 14,
   "metadata": {},
   "outputs": [
    {
     "name": "stdout",
     "output_type": "stream",
     "text": [
      "    Name  Age\n",
      "0  Alice   25\n",
      "1    Bob   30\n"
     ]
    }
   ],
   "source": [
    "# Creating a DataFrame with duplicate rows\n",
    "data = {'Name': ['Alice', 'Bob', 'Alice'], 'Age': [25, 30, 25]}\n",
    "df = pd.DataFrame(data)\n",
    "\n",
    "# Dropping duplicate rows\n",
    "df = df.drop_duplicates()\n",
    "print(df)\n"
   ]
  },
  {
   "cell_type": "markdown",
   "metadata": {},
   "source": [
    "## 6. Data Transformation\n",
    "# Applying Functions"
   ]
  },
  {
   "cell_type": "code",
   "execution_count": 15,
   "metadata": {},
   "outputs": [
    {
     "name": "stdout",
     "output_type": "stream",
     "text": [
      "    Name  Age\n",
      "0  Alice   26\n",
      "1    Bob   31\n"
     ]
    }
   ],
   "source": [
    "# Applying a function to a column\n",
    "df['Age'] = df['Age'].apply(lambda x: x + 1)\n",
    "print(df)\n"
   ]
  },
  {
   "cell_type": "markdown",
   "metadata": {},
   "source": [
    "## Mapping Values\n"
   ]
  },
  {
   "cell_type": "code",
   "execution_count": 18,
   "metadata": {},
   "outputs": [
    {
     "name": "stdout",
     "output_type": "stream",
     "text": [
      "      Name  Age City\n",
      "0    Alice   25  NYC\n",
      "1      Bob   30   LA\n",
      "2  Charlie   35  NaN\n"
     ]
    }
   ],
   "source": [
    "# Mapping values in a column\n",
    "df['City'] = df['City'].map({'New York': 'NYC', 'Los Angeles': 'LA'})\n",
    "print(df)\n"
   ]
  },
  {
   "cell_type": "markdown",
   "metadata": {},
   "source": [
    "## 7. Data Analysis\n",
    "# Descriptive Statistics"
   ]
  },
  {
   "cell_type": "code",
   "execution_count": 20,
   "metadata": {},
   "outputs": [
    {
     "name": "stdout",
     "output_type": "stream",
     "text": [
      "        Age\n",
      "count   3.0\n",
      "mean   30.0\n",
      "std     5.0\n",
      "min    25.0\n",
      "25%    27.5\n",
      "50%    30.0\n",
      "75%    32.5\n",
      "max    35.0\n"
     ]
    }
   ],
   "source": [
    "# Summary statistics\n",
    "print(df.describe())\n",
    "\n",
    "\n"
   ]
  },
  {
   "cell_type": "code",
   "execution_count": 21,
   "metadata": {},
   "outputs": [
    {
     "name": "stdout",
     "output_type": "stream",
     "text": [
      "30.0\n",
      "30.0\n",
      "0    25\n",
      "1    30\n",
      "2    35\n",
      "Name: Age, dtype: int64\n"
     ]
    }
   ],
   "source": [
    "# Mean, median, and mode\n",
    "print(df['Age'].mean())\n",
    "print(df['Age'].median())\n",
    "print(df['Age'].mode())"
   ]
  },
  {
   "cell_type": "markdown",
   "metadata": {},
   "source": [
    "## 8. Working with Dates and Times\n"
   ]
  },
  {
   "cell_type": "code",
   "execution_count": 25,
   "metadata": {},
   "outputs": [
    {
     "name": "stdout",
     "output_type": "stream",
     "text": [
      "Date DataFrame Below \n",
      "        Date\n",
      "0 2022-01-01\n",
      "1 2022-01-02\n",
      "2 2022-01-03\n",
      "3 2022-01-04\n",
      "4 2022-01-05\n",
      "        Date  Year  Month  Day\n",
      "0 2022-01-01  2022      1    1\n",
      "1 2022-01-02  2022      1    2\n",
      "2 2022-01-03  2022      1    3\n",
      "3 2022-01-04  2022      1    4\n",
      "4 2022-01-05  2022      1    5\n"
     ]
    }
   ],
   "source": [
    "# Creating a DataFrame with date column\n",
    "data = {'Date': pd.date_range(start='1/1/2022', periods=5, freq='D')}\n",
    "df = pd.DataFrame(data)\n",
    "print(\"Date DataFrame Below \")\n",
    "print(df)\n",
    "\n",
    "# Extracting year, month, and day\n",
    "df['Year'] = df['Date'].dt.year\n",
    "df['Month'] = df['Date'].dt.month\n",
    "df['Day'] = df['Date'].dt.day\n",
    "print(df)\n"
   ]
  },
  {
   "cell_type": "markdown",
   "metadata": {},
   "source": [
    "# 9. Merging and Joining DataFrames\n"
   ]
  },
  {
   "cell_type": "code",
   "execution_count": 26,
   "metadata": {},
   "outputs": [
    {
     "name": "stdout",
     "output_type": "stream",
     "text": [
      "   ID     Name         City\n",
      "0   1    Alice     New York\n",
      "1   2      Bob  Los Angeles\n",
      "2   3  Charlie      Chicago\n"
     ]
    }
   ],
   "source": [
    "# Creating two DataFrames\n",
    "df1 = pd.DataFrame({'ID': [1, 2, 3], 'Name': ['Alice', 'Bob', 'Charlie']})\n",
    "df2 = pd.DataFrame({'ID': [1, 2, 3], 'City': ['New York', 'Los Angeles', 'Chicago']})\n",
    "\n",
    "# Merging DataFrames\n",
    "merged_df = pd.merge(df1, df2, on='ID')\n",
    "print(merged_df)\n"
   ]
  },
  {
   "cell_type": "markdown",
   "metadata": {},
   "source": [
    "## 10. Input and Output Operations\n"
   ]
  },
  {
   "cell_type": "code",
   "execution_count": null,
   "metadata": {},
   "outputs": [],
   "source": [
    "# Reading from a CSV file\n",
    "df = pd.read_csv('path/to/file.csv')\n",
    "\n",
    "# Writing to a CSV file\n",
    "df.to_csv('path/to/output.csv', index=False)\n",
    "\n",
    "# Reading from an Excel file\n",
    "df = pd.read_excel('path/to/file.xlsx')\n",
    "\n",
    "# Writing to an Excel file\n",
    "df.to_excel('path/to/output.xlsx', index=False)\n"
   ]
  },
  {
   "cell_type": "markdown",
   "metadata": {},
   "source": [
    "# 11. Plotting and Visualization\n",
    "## Pandas integrates well with Matplotlib for plotting."
   ]
  },
  {
   "cell_type": "code",
   "execution_count": 28,
   "metadata": {},
   "outputs": [
    {
     "name": "stdout",
     "output_type": "stream",
     "text": [
      "Collecting matplotlib\n",
      "  Downloading matplotlib-3.9.1-cp311-cp311-win_amd64.whl.metadata (11 kB)\n",
      "Collecting contourpy>=1.0.1 (from matplotlib)\n",
      "  Downloading contourpy-1.2.1-cp311-cp311-win_amd64.whl.metadata (5.8 kB)\n",
      "Collecting cycler>=0.10 (from matplotlib)\n",
      "  Downloading cycler-0.12.1-py3-none-any.whl.metadata (3.8 kB)\n",
      "Collecting fonttools>=4.22.0 (from matplotlib)\n",
      "  Downloading fonttools-4.53.1-cp311-cp311-win_amd64.whl.metadata (165 kB)\n",
      "     ---------------------------------------- 0.0/165.9 kB ? eta -:--:--\n",
      "     -- ------------------------------------- 10.2/165.9 kB ? eta -:--:--\n",
      "     --------- --------------------------- 41.0/165.9 kB 495.5 kB/s eta 0:00:01\n",
      "     ------------------ ------------------ 81.9/165.9 kB 770.8 kB/s eta 0:00:01\n",
      "     -----------------------------------  163.8/165.9 kB 984.6 kB/s eta 0:00:01\n",
      "     ------------------------------------ 165.9/165.9 kB 905.1 kB/s eta 0:00:00\n",
      "Collecting kiwisolver>=1.3.1 (from matplotlib)\n",
      "  Downloading kiwisolver-1.4.5-cp311-cp311-win_amd64.whl.metadata (6.5 kB)\n",
      "Requirement already satisfied: numpy>=1.23 in c:\\users\\surya\\appdata\\local\\packages\\pythonsoftwarefoundation.python.3.11_qbz5n2kfra8p0\\localcache\\local-packages\\python311\\site-packages (from matplotlib) (2.0.1)\n",
      "Requirement already satisfied: packaging>=20.0 in c:\\users\\surya\\appdata\\local\\packages\\pythonsoftwarefoundation.python.3.11_qbz5n2kfra8p0\\localcache\\local-packages\\python311\\site-packages (from matplotlib) (24.1)\n",
      "Collecting pillow>=8 (from matplotlib)\n",
      "  Downloading pillow-10.4.0-cp311-cp311-win_amd64.whl.metadata (9.3 kB)\n",
      "Collecting pyparsing>=2.3.1 (from matplotlib)\n",
      "  Downloading pyparsing-3.1.2-py3-none-any.whl.metadata (5.1 kB)\n",
      "Requirement already satisfied: python-dateutil>=2.7 in c:\\users\\surya\\appdata\\local\\packages\\pythonsoftwarefoundation.python.3.11_qbz5n2kfra8p0\\localcache\\local-packages\\python311\\site-packages (from matplotlib) (2.9.0.post0)\n",
      "Requirement already satisfied: six>=1.5 in c:\\users\\surya\\appdata\\local\\packages\\pythonsoftwarefoundation.python.3.11_qbz5n2kfra8p0\\localcache\\local-packages\\python311\\site-packages (from python-dateutil>=2.7->matplotlib) (1.16.0)\n",
      "Downloading matplotlib-3.9.1-cp311-cp311-win_amd64.whl (8.0 MB)\n",
      "   ---------------------------------------- 0.0/8.0 MB ? eta -:--:--\n",
      "   ---------------------------------------- 0.1/8.0 MB 2.3 MB/s eta 0:00:04\n",
      "    --------------------------------------- 0.1/8.0 MB 2.4 MB/s eta 0:00:04\n",
      "    --------------------------------------- 0.2/8.0 MB 1.5 MB/s eta 0:00:06\n",
      "   - -------------------------------------- 0.3/8.0 MB 1.8 MB/s eta 0:00:05\n",
      "   -- ------------------------------------- 0.4/8.0 MB 2.0 MB/s eta 0:00:04\n",
      "   -- ------------------------------------- 0.5/8.0 MB 1.9 MB/s eta 0:00:04\n",
      "   --- ------------------------------------ 0.6/8.0 MB 1.9 MB/s eta 0:00:04\n",
      "   --- ------------------------------------ 0.7/8.0 MB 1.9 MB/s eta 0:00:04\n",
      "   ---- ----------------------------------- 0.8/8.0 MB 2.0 MB/s eta 0:00:04\n",
      "   ---- ----------------------------------- 0.9/8.0 MB 2.0 MB/s eta 0:00:04\n",
      "   ---- ----------------------------------- 1.0/8.0 MB 2.1 MB/s eta 0:00:04\n",
      "   ---- ----------------------------------- 1.0/8.0 MB 2.1 MB/s eta 0:00:04\n",
      "   ---- ----------------------------------- 1.0/8.0 MB 2.1 MB/s eta 0:00:04\n",
      "   ---- ----------------------------------- 1.0/8.0 MB 2.1 MB/s eta 0:00:04\n",
      "   ---- ----------------------------------- 1.0/8.0 MB 2.1 MB/s eta 0:00:04\n",
      "   ---- ----------------------------------- 1.0/8.0 MB 1.4 MB/s eta 0:00:06\n",
      "   ------- -------------------------------- 1.5/8.0 MB 2.0 MB/s eta 0:00:04\n",
      "   ------- -------------------------------- 1.5/8.0 MB 2.0 MB/s eta 0:00:04\n",
      "   ------- -------------------------------- 1.5/8.0 MB 1.8 MB/s eta 0:00:04\n",
      "   -------- ------------------------------- 1.6/8.0 MB 1.7 MB/s eta 0:00:04\n",
      "   -------- ------------------------------- 1.7/8.0 MB 1.8 MB/s eta 0:00:04\n",
      "   -------- ------------------------------- 1.8/8.0 MB 1.8 MB/s eta 0:00:04\n",
      "   --------- ------------------------------ 1.9/8.0 MB 1.8 MB/s eta 0:00:04\n",
      "   ---------- ----------------------------- 2.0/8.0 MB 1.8 MB/s eta 0:00:04\n",
      "   ---------- ----------------------------- 2.1/8.0 MB 1.9 MB/s eta 0:00:04\n",
      "   ----------- ---------------------------- 2.2/8.0 MB 1.9 MB/s eta 0:00:04\n",
      "   ----------- ---------------------------- 2.3/8.0 MB 1.9 MB/s eta 0:00:04\n",
      "   ------------ --------------------------- 2.4/8.0 MB 1.9 MB/s eta 0:00:03\n",
      "   ------------ --------------------------- 2.5/8.0 MB 1.9 MB/s eta 0:00:03\n",
      "   ------------- -------------------------- 2.7/8.0 MB 1.9 MB/s eta 0:00:03\n",
      "   ------------- -------------------------- 2.7/8.0 MB 1.9 MB/s eta 0:00:03\n",
      "   -------------- ------------------------- 2.8/8.0 MB 1.9 MB/s eta 0:00:03\n",
      "   -------------- ------------------------- 2.9/8.0 MB 1.9 MB/s eta 0:00:03\n",
      "   --------------- ------------------------ 3.0/8.0 MB 1.9 MB/s eta 0:00:03\n",
      "   --------------- ------------------------ 3.1/8.0 MB 1.9 MB/s eta 0:00:03\n",
      "   ---------------- ----------------------- 3.2/8.0 MB 1.9 MB/s eta 0:00:03\n",
      "   ---------------- ----------------------- 3.4/8.0 MB 2.0 MB/s eta 0:00:03\n",
      "   ----------------- ---------------------- 3.5/8.0 MB 2.0 MB/s eta 0:00:03\n",
      "   ----------------- ---------------------- 3.6/8.0 MB 2.0 MB/s eta 0:00:03\n",
      "   ------------------ --------------------- 3.6/8.0 MB 2.0 MB/s eta 0:00:03\n",
      "   ------------------ --------------------- 3.7/8.0 MB 2.0 MB/s eta 0:00:03\n",
      "   ------------------- -------------------- 3.9/8.0 MB 2.0 MB/s eta 0:00:03\n",
      "   ------------------- -------------------- 4.0/8.0 MB 2.0 MB/s eta 0:00:03\n",
      "   -------------------- ------------------- 4.1/8.0 MB 2.0 MB/s eta 0:00:02\n",
      "   --------------------- ------------------ 4.3/8.0 MB 2.1 MB/s eta 0:00:02\n",
      "   ---------------------- ----------------- 4.5/8.0 MB 2.1 MB/s eta 0:00:02\n",
      "   ----------------------- ---------------- 4.6/8.0 MB 2.1 MB/s eta 0:00:02\n",
      "   ------------------------ --------------- 4.8/8.0 MB 2.2 MB/s eta 0:00:02\n",
      "   ------------------------- -------------- 5.0/8.0 MB 2.2 MB/s eta 0:00:02\n",
      "   ------------------------- -------------- 5.2/8.0 MB 2.2 MB/s eta 0:00:02\n",
      "   ------------------------- -------------- 5.2/8.0 MB 2.2 MB/s eta 0:00:02\n",
      "   ------------------------- -------------- 5.2/8.0 MB 2.2 MB/s eta 0:00:02\n",
      "   ------------------------- -------------- 5.2/8.0 MB 2.2 MB/s eta 0:00:02\n",
      "   ------------------------- -------------- 5.2/8.0 MB 2.2 MB/s eta 0:00:02\n",
      "   -------------------------- ------------- 5.2/8.0 MB 2.1 MB/s eta 0:00:02\n",
      "   ---------------------------- ----------- 5.7/8.0 MB 2.2 MB/s eta 0:00:02\n",
      "   ---------------------------- ----------- 5.7/8.0 MB 2.2 MB/s eta 0:00:02\n",
      "   ----------------------------- ---------- 5.9/8.0 MB 2.2 MB/s eta 0:00:01\n",
      "   ------------------------------ --------- 6.1/8.0 MB 2.2 MB/s eta 0:00:01\n",
      "   ------------------------------- -------- 6.2/8.0 MB 2.2 MB/s eta 0:00:01\n",
      "   ------------------------------- -------- 6.3/8.0 MB 2.3 MB/s eta 0:00:01\n",
      "   -------------------------------- ------- 6.5/8.0 MB 2.3 MB/s eta 0:00:01\n",
      "   --------------------------------- ------ 6.6/8.0 MB 2.3 MB/s eta 0:00:01\n",
      "   --------------------------------- ------ 6.7/8.0 MB 2.3 MB/s eta 0:00:01\n",
      "   ---------------------------------- ----- 6.8/8.0 MB 2.3 MB/s eta 0:00:01\n",
      "   ---------------------------------- ----- 6.9/8.0 MB 2.3 MB/s eta 0:00:01\n",
      "   ---------------------------------- ----- 6.9/8.0 MB 2.3 MB/s eta 0:00:01\n",
      "   ---------------------------------- ----- 6.9/8.0 MB 2.3 MB/s eta 0:00:01\n",
      "   ------------------------------------ --- 7.2/8.0 MB 2.3 MB/s eta 0:00:01\n",
      "   ------------------------------------ --- 7.4/8.0 MB 2.3 MB/s eta 0:00:01\n",
      "   ------------------------------------- -- 7.4/8.0 MB 2.3 MB/s eta 0:00:01\n",
      "   ------------------------------------- -- 7.6/8.0 MB 2.3 MB/s eta 0:00:01\n",
      "   -------------------------------------- - 7.7/8.0 MB 2.3 MB/s eta 0:00:01\n",
      "   ---------------------------------------  7.8/8.0 MB 2.3 MB/s eta 0:00:01\n",
      "   ---------------------------------------  7.9/8.0 MB 2.3 MB/s eta 0:00:01\n",
      "   ---------------------------------------  8.0/8.0 MB 2.3 MB/s eta 0:00:01\n",
      "   ---------------------------------------- 8.0/8.0 MB 2.3 MB/s eta 0:00:00\n",
      "Downloading contourpy-1.2.1-cp311-cp311-win_amd64.whl (188 kB)\n",
      "   ---------------------------------------- 0.0/188.2 kB ? eta -:--:--\n",
      "   ------------------------------ --------- 143.4/188.2 kB 2.9 MB/s eta 0:00:01\n",
      "   ---------------------------------------- 188.2/188.2 kB 2.3 MB/s eta 0:00:00\n",
      "Downloading cycler-0.12.1-py3-none-any.whl (8.3 kB)\n",
      "Downloading fonttools-4.53.1-cp311-cp311-win_amd64.whl (2.2 MB)\n",
      "   ---------------------------------------- 0.0/2.2 MB ? eta -:--:--\n",
      "   -- ------------------------------------- 0.1/2.2 MB 3.6 MB/s eta 0:00:01\n",
      "   --- ------------------------------------ 0.2/2.2 MB 2.5 MB/s eta 0:00:01\n",
      "   ----- ---------------------------------- 0.3/2.2 MB 2.5 MB/s eta 0:00:01\n",
      "   ------- -------------------------------- 0.4/2.2 MB 2.3 MB/s eta 0:00:01\n",
      "   --------- ------------------------------ 0.5/2.2 MB 2.4 MB/s eta 0:00:01\n",
      "   ----------- ---------------------------- 0.6/2.2 MB 2.4 MB/s eta 0:00:01\n",
      "   ------------- -------------------------- 0.8/2.2 MB 2.4 MB/s eta 0:00:01\n",
      "   ---------------- ----------------------- 0.9/2.2 MB 2.5 MB/s eta 0:00:01\n",
      "   ------------------ --------------------- 1.0/2.2 MB 2.4 MB/s eta 0:00:01\n",
      "   -------------------- ------------------- 1.1/2.2 MB 2.4 MB/s eta 0:00:01\n",
      "   ---------------------- ----------------- 1.2/2.2 MB 2.4 MB/s eta 0:00:01\n",
      "   ------------------------ --------------- 1.3/2.2 MB 2.4 MB/s eta 0:00:01\n",
      "   -------------------------- ------------- 1.5/2.2 MB 2.5 MB/s eta 0:00:01\n",
      "   ---------------------------- ----------- 1.6/2.2 MB 2.4 MB/s eta 0:00:01\n",
      "   ------------------------------ --------- 1.7/2.2 MB 2.4 MB/s eta 0:00:01\n",
      "   --------------------------------- ------ 1.8/2.2 MB 2.5 MB/s eta 0:00:01\n",
      "   ----------------------------------- ---- 2.0/2.2 MB 2.4 MB/s eta 0:00:01\n",
      "   -------------------------------------- - 2.1/2.2 MB 2.5 MB/s eta 0:00:01\n",
      "   ---------------------------------------  2.2/2.2 MB 2.5 MB/s eta 0:00:01\n",
      "   ---------------------------------------- 2.2/2.2 MB 2.4 MB/s eta 0:00:00\n",
      "Downloading kiwisolver-1.4.5-cp311-cp311-win_amd64.whl (56 kB)\n",
      "   ---------------------------------------- 0.0/56.1 kB ? eta -:--:--\n",
      "   ---------------------------------------- 56.1/56.1 kB 3.1 MB/s eta 0:00:00\n",
      "Downloading pillow-10.4.0-cp311-cp311-win_amd64.whl (2.6 MB)\n",
      "   ---------------------------------------- 0.0/2.6 MB ? eta -:--:--\n",
      "   - -------------------------------------- 0.1/2.6 MB 2.4 MB/s eta 0:00:02\n",
      "   ---- ----------------------------------- 0.3/2.6 MB 2.6 MB/s eta 0:00:01\n",
      "   ----- ---------------------------------- 0.4/2.6 MB 2.5 MB/s eta 0:00:01\n",
      "   ------- -------------------------------- 0.5/2.6 MB 2.7 MB/s eta 0:00:01\n",
      "   --------- ------------------------------ 0.6/2.6 MB 2.5 MB/s eta 0:00:01\n",
      "   ----------- ---------------------------- 0.7/2.6 MB 2.6 MB/s eta 0:00:01\n",
      "   ------------- -------------------------- 0.8/2.6 MB 2.5 MB/s eta 0:00:01\n",
      "   -------------- ------------------------- 1.0/2.6 MB 2.6 MB/s eta 0:00:01\n",
      "   ----------------- ---------------------- 1.1/2.6 MB 2.6 MB/s eta 0:00:01\n",
      "   ----------------- ---------------------- 1.1/2.6 MB 2.5 MB/s eta 0:00:01\n",
      "   ------------------ --------------------- 1.2/2.6 MB 2.4 MB/s eta 0:00:01\n",
      "   -------------------- ------------------- 1.3/2.6 MB 2.3 MB/s eta 0:00:01\n",
      "   --------------------- ------------------ 1.4/2.6 MB 2.4 MB/s eta 0:00:01\n",
      "   ----------------------- ---------------- 1.5/2.6 MB 2.3 MB/s eta 0:00:01\n",
      "   ------------------------- -------------- 1.6/2.6 MB 2.3 MB/s eta 0:00:01\n",
      "   --------------------------- ------------ 1.8/2.6 MB 2.4 MB/s eta 0:00:01\n",
      "   ----------------------------- ---------- 1.9/2.6 MB 2.4 MB/s eta 0:00:01\n",
      "   ------------------------------ --------- 2.0/2.6 MB 2.4 MB/s eta 0:00:01\n",
      "   --------------------------------- ------ 2.1/2.6 MB 2.4 MB/s eta 0:00:01\n",
      "   ---------------------------------- ----- 2.2/2.6 MB 2.4 MB/s eta 0:00:01\n",
      "   ----------------------------------- ---- 2.2/2.6 MB 2.3 MB/s eta 0:00:01\n",
      "   ------------------------------------ --- 2.3/2.6 MB 2.3 MB/s eta 0:00:01\n",
      "   -------------------------------------- - 2.5/2.6 MB 2.3 MB/s eta 0:00:01\n",
      "   ---------------------------------------  2.5/2.6 MB 2.3 MB/s eta 0:00:01\n",
      "   ---------------------------------------- 2.6/2.6 MB 2.3 MB/s eta 0:00:00\n",
      "Downloading pyparsing-3.1.2-py3-none-any.whl (103 kB)\n",
      "   ---------------------------------------- 0.0/103.2 kB ? eta -:--:--\n",
      "   ---------------------------------------- 103.2/103.2 kB 3.0 MB/s eta 0:00:00\n",
      "Installing collected packages: pyparsing, pillow, kiwisolver, fonttools, cycler, contourpy, matplotlib\n",
      "Successfully installed contourpy-1.2.1 cycler-0.12.1 fonttools-4.53.1 kiwisolver-1.4.5 matplotlib-3.9.1 pillow-10.4.0 pyparsing-3.1.2\n",
      "Note: you may need to restart the kernel to use updated packages.\n"
     ]
    },
    {
     "name": "stderr",
     "output_type": "stream",
     "text": [
      "\n",
      "[notice] A new release of pip is available: 24.0 -> 24.1.2\n",
      "[notice] To update, run: C:\\Users\\surya\\AppData\\Local\\Microsoft\\WindowsApps\\PythonSoftwareFoundation.Python.3.11_qbz5n2kfra8p0\\python.exe -m pip install --upgrade pip\n"
     ]
    }
   ],
   "source": [
    "pip install matplotlib\n"
   ]
  },
  {
   "cell_type": "code",
   "execution_count": 31,
   "metadata": {},
   "outputs": [
    {
     "name": "stdout",
     "output_type": "stream",
     "text": [
      "Note: you may need to restart the kernel to use updated packages.\n"
     ]
    },
    {
     "name": "stderr",
     "output_type": "stream",
     "text": [
      "The system cannot find the path specified.\n"
     ]
    }
   ],
   "source": [
    "pip install package_name --target=E:\\Python_Libraries\n"
   ]
  },
  {
   "cell_type": "code",
   "execution_count": null,
   "metadata": {},
   "outputs": [],
   "source": [
    "## 11. Plotting and Visualization\n",
    "# Pandas integrates well with Matplotlib for plotting.\n",
    "\n"
   ]
  },
  {
   "cell_type": "code",
   "execution_count": 34,
   "metadata": {},
   "outputs": [
    {
     "data": {
      "image/png": "[encoded data removed]",
      "text/plain": [
       "<Figure size 640x480 with 1 Axes>"
      ]
     },
     "metadata": {},
     "output_type": "display_data"
    },
    {
     "data": {
      "image/png": "[encoded data removed]",
      "text/plain": [
       "<Figure size 640x480 with 1 Axes>"
      ]
     },
     "metadata": {},
     "output_type": "display_data"
    }
   ],
   "source": [
    "import matplotlib.pyplot as plt\n",
    "\n",
    "# Line plot\n",
    "df['Age'].plot(kind='line')\n",
    "plt.show()\n",
    "\n",
    "# Bar plot\n",
    "df.plot(kind='bar', x='Name', y='Age')\n",
    "plt.show()\n"
   ]
  },
  {
   "cell_type": "markdown",
   "metadata": {},
   "source": [
    "## 12. Real-world Examples\n",
    "## Example 1: Analyzing Sales Data"
   ]
  },
  {
   "cell_type": "code",
   "execution_count": 35,
   "metadata": {},
   "outputs": [
    {
     "name": "stdout",
     "output_type": "stream",
     "text": [
      "sales_data.csv file has been created and saved.\n"
     ]
    }
   ],
   "source": [
    "import pandas as pd\n",
    "\n",
    "# Sample data\n",
    "data = {\n",
    "    'Date': ['2024-01-01', '2024-01-01', '2024-01-02', '2024-01-02', '2024-01-03', '2024-01-03'],\n",
    "    'Product': ['Widget A', 'Widget B', 'Widget A', 'Widget C', 'Widget B', 'Widget C'],\n",
    "    'Units_Sold': [100, 200, 150, 50, 100, 200],\n",
    "    'Revenue': [1500, 3000, 2250, 750, 1500, 3000]\n",
    "}\n",
    "\n",
    "# Create DataFrame\n",
    "df = pd.DataFrame(data)\n",
    "\n",
    "# Save to CSV\n",
    "df.to_csv('sales_data.csv', index=False)\n",
    "\n",
    "print('sales_data.csv file has been created and saved.')\n"
   ]
  },
  {
   "cell_type": "code",
   "execution_count": 39,
   "metadata": {},
   "outputs": [
    {
     "data": {
      "image/png": "[encoded data removed]",
      "text/plain": [
       "<Figure size 640x480 with 1 Axes>"
      ]
     },
     "metadata": {},
     "output_type": "display_data"
    }
   ],
   "source": [
    "# Load data\n",
    "sales_data = pd.read_csv('sales_data.csv')\n",
    "\n",
    "# Data cleaning\n",
    "sales_data = sales_data.dropna()\n",
    "\n",
    "# Data transformation\n",
    "sales_data['Total'] = 2 * sales_data['Units_Sold']\n",
    "\n",
    "# Data analysis\n",
    "total_sales = sales_data.groupby('Product')['Total'].sum()\n",
    "\n",
    "# Plotting results\n",
    "total_sales.plot(kind='bar')\n",
    "plt.title('Total Sales by Product')\n",
    "plt.ylabel('Total Sales')\n",
    "plt.show()\n"
   ]
  }
 ],
 "metadata": {
  "kernelspec": {
   "display_name": "Python 3",
   "language": "python",
   "name": "python3"
  },
  "language_info": {
   "codemirror_mode": {
    "name": "ipython",
    "version": 3
   },
   "file_extension": ".py",
   "mimetype": "text/x-python",
   "name": "python",
   "nbconvert_exporter": "python",
   "pygments_lexer": "ipython3",
   "version": "3.11.9"
  }
 },
 "nbformat": 4,
 "nbformat_minor": 2
}
